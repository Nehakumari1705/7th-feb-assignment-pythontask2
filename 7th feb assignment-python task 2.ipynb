{
 "cells": [
  {
   "cell_type": "markdown",
   "id": "474f83f8",
   "metadata": {},
   "source": [
    "#### Q1. You are writing code for a company. The requirement of the company is that you create a python function that will check whether the password entered by the user is correct or not. The function should take the password as input and return the string “Valid Password” if the entered password follows the below-given password guidelines else it should return “Invalid Password”.\n",
    "\n",
    "Note: \n",
    "\n",
    "1. The Password should contain at least two uppercase letters and at least two lowercase letters.\n",
    "2. The Password should contain at least a number and three special characters.\n",
    "3. The length of the password should be 10 characters long."
   ]
  },
  {
   "cell_type": "code",
   "execution_count": 1,
   "id": "33b13f8e",
   "metadata": {},
   "outputs": [],
   "source": [
    "import re\n",
    "\n",
    "def check_password(password):\n",
    "    # Check if the password has at least two uppercase letters\n",
    "    uppercase_count = len(re.findall(r'[A-Z]', password))\n",
    "    if uppercase_count < 2:\n",
    "        return \"Invalid Password: The password should contain at least two uppercase letters.\"\n",
    "\n",
    "    # Check if the password has at least two lowercase letters\n",
    "    lowercase_count = len(re.findall(r'[a-z]', password))\n",
    "    if lowercase_count < 2:\n",
    "        return \"Invalid Password: The password should contain at least two lowercase letters.\"\n",
    "\n",
    "    # Check if the password has at least one number\n",
    "    if not any(char.isdigit() for char in password):\n",
    "        return \"Invalid Password: The password should contain at least one number.\"\n",
    "\n",
    "    # Check if the password has at least three special characters\n",
    "    special_chars_count = len(re.findall(r'[!@#$%^&*(),.?\":{}|<>]', password))\n",
    "    if special_chars_count < 3:\n",
    "        return \"Invalid Password: The password should contain at least three special characters.\"\n",
    "\n",
    "    # Check if the length of the password is 10 characters\n",
    "    if len(password) != 10:\n",
    "        return \"Invalid Password: The length of the password should be 10 characters long.\"\n",
    "\n",
    "    return \"Valid Password\"\n",
    "\n",
    "\n"
   ]
  },
  {
   "cell_type": "code",
   "execution_count": 3,
   "id": "b9741c49",
   "metadata": {},
   "outputs": [
    {
     "name": "stdout",
     "output_type": "stream",
     "text": [
      "Valid Password\n",
      "Invalid Password: The password should contain at least two uppercase letters.\n"
     ]
    }
   ],
   "source": [
    "# Test the function with a sample password\n",
    "password1 = \"AAbc@125,!\"\n",
    "result = check_password(password1)\n",
    "print(result)  # Output: Valid Password\n",
    "\n",
    "password2 = \"abc@12345!\"\n",
    "result = check_password(password2)\n",
    "print(result)  # Output: Invalid Password: The password should contain at least two uppercase letters."
   ]
  },
  {
   "cell_type": "markdown",
   "id": "19a8cf27",
   "metadata": {},
   "source": [
    "#### Q2. Solve the below-given questions using at least one of the following:\n",
    "1. Lambda function\n",
    "2. Filter function\n",
    "3. Zap function\n",
    "4. List Comprehension\n",
    "\n",
    ". Check if the string starts with a particular letter.\n",
    "\n",
    ". Check if the string is numeric.\n",
    "\n",
    ". Sort a list of tuples having fruit names and their quantity. [(\"mango\",99),(\"orange\",80), (\"grapes\", 1000)]\n",
    "\n",
    ". Find the squares of numbers from 1 to 10.\n",
    "\n",
    ". Find the cube root of numbers from 1 to 10.\n",
    "\n",
    ". Check if a given number is even.\n",
    "\n",
    ". Filter odd numbers from the given list.\n",
    "[1,2,3,4,5,6,7,8,9,10]\n",
    "\n",
    ". Sort a list of integers into positive and negative integers lists.\n",
    "[1,2,3,4,5,6,-1,-2,-3,-4,-5,0]"
   ]
  },
  {
   "cell_type": "markdown",
   "id": "f9f73525",
   "metadata": {},
   "source": [
    "#### Ans-\n",
    "\n",
    "####  Sure! Let's solve each of the given questions using lambda functions, filter function, map function, and list comprehensions:\n",
    "\n",
    "#### 1. Check if the string starts with a particular letter:\n",
    "\n",
    "Using Lambda Function and Filter Function:"
   ]
  },
  {
   "cell_type": "code",
   "execution_count": 4,
   "id": "35742ddc",
   "metadata": {},
   "outputs": [
    {
     "name": "stdout",
     "output_type": "stream",
     "text": [
      "['apple']\n"
     ]
    }
   ],
   "source": [
    "strings = [\"apple\", \"banana\", \"orange\", \"grapes\"]\n",
    "letter_to_check = \"a\"\n",
    "result = list(filter(lambda s: s.startswith(letter_to_check), strings))\n",
    "print(result) \n"
   ]
  },
  {
   "cell_type": "markdown",
   "id": "fe1297c1",
   "metadata": {},
   "source": [
    "#### 2. Check if the string is numeric:\n",
    "\n",
    "Using Lambda Function and Filter Function:"
   ]
  },
  {
   "cell_type": "code",
   "execution_count": 6,
   "id": "c412a323",
   "metadata": {},
   "outputs": [
    {
     "name": "stdout",
     "output_type": "stream",
     "text": [
      "['123', '789', '42']\n"
     ]
    }
   ],
   "source": [
    "strings = [\"123\", \"apple\", \"5.6\", \"789\", \"42\"]\n",
    "result = list(filter(lambda s: s.isnumeric(), strings))\n",
    "print(result)\n"
   ]
  },
  {
   "cell_type": "markdown",
   "id": "f8d49df1",
   "metadata": {},
   "source": [
    "#### 3. Sort a list of tuples having fruit names and their quantity:\n",
    "\n",
    "Using Lambda Function and Sorted Function:"
   ]
  },
  {
   "cell_type": "code",
   "execution_count": 7,
   "id": "f046d268",
   "metadata": {},
   "outputs": [
    {
     "name": "stdout",
     "output_type": "stream",
     "text": [
      "[('orange', 80), ('mango', 99), ('grapes', 1000)]\n"
     ]
    }
   ],
   "source": [
    "fruits = [(\"mango\", 99), (\"orange\", 80), (\"grapes\", 1000)]\n",
    "sorted_fruits = sorted(fruits, key=lambda x: x[1])\n",
    "print(sorted_fruits) \n"
   ]
  },
  {
   "cell_type": "markdown",
   "id": "e65e566b",
   "metadata": {},
   "source": [
    "#### 4. Find the squares of numbers from 1 to 10:\n",
    "\n",
    "Using List Comprehension:"
   ]
  },
  {
   "cell_type": "code",
   "execution_count": 10,
   "id": "bb536613",
   "metadata": {},
   "outputs": [
    {
     "name": "stdout",
     "output_type": "stream",
     "text": [
      "[1, 4, 9, 16, 25, 36, 49, 64, 81, 100]\n"
     ]
    }
   ],
   "source": [
    "squares = [x **2 for x in range(1, 11)]\n",
    "print(squares)\n"
   ]
  },
  {
   "cell_type": "markdown",
   "id": "d9a78891",
   "metadata": {},
   "source": [
    "#### 5. Find the cube root of numbers from 1 to 10:\n",
    "\n",
    "Using List Comprehension:"
   ]
  },
  {
   "cell_type": "code",
   "execution_count": 11,
   "id": "22eaf40c",
   "metadata": {},
   "outputs": [
    {
     "name": "stdout",
     "output_type": "stream",
     "text": [
      "[1.0, 1.2599210498948732, 1.4422495703074083, 1.5874010519681994, 1.7099759466766968, 1.8171205928321397, 1.912931182772389, 2.0, 2.080083823051904, 2.154434690031884]\n"
     ]
    }
   ],
   "source": [
    "import math\n",
    "cube_roots = [math.pow(x, 1/3) for x in range(1, 11)]\n",
    "print(cube_roots) "
   ]
  },
  {
   "cell_type": "markdown",
   "id": "882611be",
   "metadata": {},
   "source": [
    "#### 6. Check if a given number is even:\n",
    "\n",
    "Using Lambda Function and Map Function:"
   ]
  },
  {
   "cell_type": "code",
   "execution_count": 16,
   "id": "54e29542",
   "metadata": {},
   "outputs": [
    {
     "name": "stdout",
     "output_type": "stream",
     "text": [
      "[False, True, False, True, False, True, False, True, False, True]\n"
     ]
    }
   ],
   "source": [
    "numbers = [1, 2, 3, 4, 5, 6, 7, 8, 9, 10]\n",
    "result = list(map(lambda x: x % 2 == 0, numbers))\n",
    "print(result) \n"
   ]
  },
  {
   "cell_type": "markdown",
   "id": "e19cb20f",
   "metadata": {},
   "source": [
    "#### 7.Filter odd numbers from the given list:\n",
    "\n",
    "Using Lambda Function and Filter Function:"
   ]
  },
  {
   "cell_type": "code",
   "execution_count": 18,
   "id": "3e9324a1",
   "metadata": {},
   "outputs": [
    {
     "name": "stdout",
     "output_type": "stream",
     "text": [
      "[5, 7, 3, 1, 9]\n"
     ]
    }
   ],
   "source": [
    "odd_numbers= [5,7,6,3,2,4,1,2,4,8,9,0]\n",
    "result=list(filter(lambda x: x %2 !=0 , odd_numbers))\n",
    "print(result)"
   ]
  },
  {
   "cell_type": "markdown",
   "id": "04a02f2c",
   "metadata": {},
   "source": [
    "#### 8. Sort a list of integers into positive and negative integers lists:\n",
    "\n",
    "Using List Comprehension:"
   ]
  },
  {
   "cell_type": "code",
   "execution_count": 19,
   "id": "9b98e8d5",
   "metadata": {},
   "outputs": [
    {
     "name": "stdout",
     "output_type": "stream",
     "text": [
      "[1, 2, 3, 4, 5, 6]\n",
      "[-1, -2, -3, -4, -5]\n"
     ]
    }
   ],
   "source": [
    "numbers = [1, 2, 3, 4, 5, 6, -1, -2, -3, -4, -5, 0]\n",
    "positive_numbers=[x for x in numbers if x>0]\n",
    "negative_numbers=[x for x in numbers if x<0]\n",
    "print(positive_numbers)\n",
    "print(negative_numbers)"
   ]
  },
  {
   "cell_type": "code",
   "execution_count": null,
   "id": "63818e2e",
   "metadata": {},
   "outputs": [],
   "source": []
  },
  {
   "cell_type": "code",
   "execution_count": null,
   "id": "7fd01fc2",
   "metadata": {},
   "outputs": [],
   "source": []
  }
 ],
 "metadata": {
  "kernelspec": {
   "display_name": "Python 3 (ipykernel)",
   "language": "python",
   "name": "python3"
  },
  "language_info": {
   "codemirror_mode": {
    "name": "ipython",
    "version": 3
   },
   "file_extension": ".py",
   "mimetype": "text/x-python",
   "name": "python",
   "nbconvert_exporter": "python",
   "pygments_lexer": "ipython3",
   "version": "3.9.13"
  }
 },
 "nbformat": 4,
 "nbformat_minor": 5
}
